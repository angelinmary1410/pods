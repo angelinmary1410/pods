{
  "nbformat": 4,
  "nbformat_minor": 0,
  "metadata": {
    "colab": {
      "provenance": []
    },
    "kernelspec": {
      "name": "python3",
      "display_name": "Python 3"
    },
    "language_info": {
      "name": "python"
    }
  },
  "cells": [
    {
      "cell_type": "code",
      "execution_count": 3,
      "metadata": {
        "colab": {
          "base_uri": "https://localhost:8080/"
        },
        "id": "VJSFOOPxy1nK",
        "outputId": "b07a63eb-7391-4796-9f74-bffe57a2854e"
      },
      "outputs": [
        {
          "output_type": "stream",
          "name": "stdout",
          "text": [
            "\n",
            "Top 5 Relevant Reviews:\n",
            "\n",
            "Score: 5 | Similarity: 0.5823\n",
            "Review: good price & fast delivery. i have gout so this stuff works great for me....\n",
            "\n",
            "Score: 5 | Similarity: 0.3511\n",
            "Review: Super easy to use and makes just the right amount of popcorn for two of us. Price is right and delivery was fast. (Got here before the popcorn machine....;o)...\n",
            "\n",
            "Score: 5 | Similarity: 0.283\n",
            "Review: These are the best blueberries I have ever eaten.  They are better than the \"fresh\" things you get in the grocery store.  They are full, slightly chewy, and taste like high quality berries.  The price is excellent ($5.00/lb), and delivery is fast.  I am very happy with my ten-pound stash of wonderfu...\n",
            "\n",
            "Score: 5 | Similarity: 0.2616\n",
            "Review: Great seller, fast shipping! I love these cookies! I have many allergies and I have no problems when eating these. I will be ordering more....\n",
            "\n",
            "Score: 5 | Similarity: 0.2253\n",
            "Review: I drank this tea at least 4 days a week during the last 6 weeks of my pregnancy.  I wish I did it the entire last trimester and everyday!  I had a 6 hour natural labor and delivery and I only pushed for 15 minutes.  My contractions, even at their most intense, only felt like strong menstrual cramps....\n"
          ]
        }
      ],
      "source": [
        "import pandas as pd\n",
        "import spacy\n",
        "from sklearn.feature_extraction.text import TfidfVectorizer\n",
        "from sklearn.metrics.pairwise import cosine_similarity\n",
        "\n",
        "\n",
        "nlp = spacy.load(\"en_core_web_sm\")\n",
        "\n",
        "df = pd.read_csv(\"Reviews.csv\")\n",
        "\n",
        "\n",
        "df = df[['Text', 'Score']]\n",
        "df = df.dropna(subset=['Text'])\n",
        "df = df.sample(1000, random_state=42).reset_index(drop=True)\n",
        "def preprocess_spacy(text):\n",
        "    doc = nlp(text.lower())\n",
        "    tokens = [\n",
        "        token.lemma_\n",
        "        for token in doc\n",
        "        if token.is_alpha and not token.is_stop\n",
        "    ]\n",
        "    return \" \".join(tokens)\n",
        "\n",
        "\n",
        "df['clean_text'] = df['Text'].apply(preprocess_spacy)\n",
        "\n",
        "vectorizer = TfidfVectorizer()\n",
        "tfidf_matrix = vectorizer.fit_transform(df['clean_text'])\n",
        "\n",
        "\n",
        "def search_reviews(query, top_k=5):\n",
        "\n",
        "    query_clean = preprocess_spacy(query)\n",
        "    query_vec = vectorizer.transform([query_clean])\n",
        "\n",
        "    similarities = cosine_similarity(query_vec, tfidf_matrix).flatten()\n",
        "    top_indices = similarities.argsort()[-top_k:][::-1]\n",
        "\n",
        "    results = []\n",
        "    for i in top_indices:\n",
        "        results.append({\n",
        "            \"Review\": df.loc[i, \"Text\"],\n",
        "            \"Score\": df.loc[i, \"Score\"],\n",
        "            \"Similarity\": round(similarities[i], 4)\n",
        "        })\n",
        "    return results\n",
        "\n",
        "query = \"great taste and fast delivery\"\n",
        "results = search_reviews(query, top_k=5)\n",
        "\n",
        "print(\"\\nTop 5 Relevant Reviews:\")\n",
        "for r in results:\n",
        "    print(f\"\\nScore: {r['Score']} | Similarity: {r['Similarity']}\")\n",
        "    print(f\"Review: {r['Review'][:300]}...\")"
      ]
    }
  ]
}