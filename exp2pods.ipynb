{
 "cells": [
  {
   "cell_type": "code",
   "execution_count": 1,
   "id": "9520b2ea-f1c1-49a4-aa57-acfd91017d8c",
   "metadata": {},
   "outputs": [],
   "source": [
    "import pandas as pd\n",
    "import seaborn as sns\n",
    "import matplotlib.pyplot as plt\n",
    "from sklearn.impute import SimpleImputer\n",
    "from sklearn.model_selection import train_test_split\n",
    "\n",
    "\n",
    "df = pd.read_csv(\"SVMtrain.csv\")\n"
   ]
  },
  {
   "cell_type": "code",
   "execution_count": 3,
   "id": "76fcf225-43f2-4b0d-8bff-2e1b97457c48",
   "metadata": {},
   "outputs": [
    {
     "name": "stdout",
     "output_type": "stream",
     "text": [
      "Shape of data: (889, 9)\n",
      "\n",
      "Info:\n",
      "<class 'pandas.core.frame.DataFrame'>\n",
      "RangeIndex: 889 entries, 0 to 888\n",
      "Data columns (total 9 columns):\n",
      " #   Column       Non-Null Count  Dtype  \n",
      "---  ------       --------------  -----  \n",
      " 0   PassengerId  889 non-null    int64  \n",
      " 1   Survived     889 non-null    int64  \n",
      " 2   Pclass       889 non-null    int64  \n",
      " 3   Sex          889 non-null    object \n",
      " 4   Age          889 non-null    float64\n",
      " 5   SibSp        889 non-null    int64  \n",
      " 6   Parch        889 non-null    int64  \n",
      " 7   Fare         889 non-null    float64\n",
      " 8   Embarked     889 non-null    int64  \n",
      "dtypes: float64(2), int64(6), object(1)\n",
      "memory usage: 62.6+ KB\n",
      "None\n",
      "\n",
      "Describe:\n",
      "        PassengerId    Survived      Pclass   Sex         Age       SibSp  \\\n",
      "count    889.000000  889.000000  889.000000   889  889.000000  889.000000   \n",
      "unique          NaN         NaN         NaN     2         NaN         NaN   \n",
      "top             NaN         NaN         NaN  Male         NaN         NaN   \n",
      "freq            NaN         NaN         NaN   577         NaN         NaN   \n",
      "mean     446.000000    0.382452    2.311586   NaN   35.686355    0.524184   \n",
      "std      256.998173    0.486260    0.834700   NaN   17.756733    1.103705   \n",
      "min        1.000000    0.000000    1.000000   NaN    0.420000    0.000000   \n",
      "25%      224.000000    0.000000    2.000000   NaN   22.000000    0.000000   \n",
      "50%      446.000000    0.000000    3.000000   NaN   32.000000    0.000000   \n",
      "75%      668.000000    1.000000    3.000000   NaN   54.000000    1.000000   \n",
      "max      891.000000    1.000000    3.000000   NaN   80.000000    8.000000   \n",
      "\n",
      "             Parch        Fare    Embarked  \n",
      "count   889.000000  889.000000  889.000000  \n",
      "unique         NaN         NaN         NaN  \n",
      "top            NaN         NaN         NaN  \n",
      "freq           NaN         NaN         NaN  \n",
      "mean      0.382452   32.096681    2.535433  \n",
      "std       0.806761   49.697504    0.792088  \n",
      "min       0.000000    0.000000    1.000000  \n",
      "25%       0.000000    7.895800    2.000000  \n",
      "50%       0.000000   14.454200    3.000000  \n",
      "75%       0.000000   31.000000    3.000000  \n",
      "max       6.000000  512.329200    3.000000  \n"
     ]
    }
   ],
   "source": [
    "print(\"Shape of data:\", df.shape)\n",
    "print(\"\\nInfo:\")\n",
    "print(df.info())\n",
    "print(\"\\nDescribe:\")\n",
    "print(df.describe(include='all'))"
   ]
  },
  {
   "cell_type": "code",
   "execution_count": 5,
   "id": "07e9e0c6-e7f6-47c9-a4a3-37c48d1d43f9",
   "metadata": {},
   "outputs": [],
   "source": [
    "age_imputer = SimpleImputer(strategy='mean')\n",
    "df['Age'] = age_imputer.fit_transform(df[['Age']])"
   ]
  },
  {
   "cell_type": "code",
   "execution_count": 9,
   "id": "deb242ca-f2b5-4b81-90f6-b3d34426e456",
   "metadata": {},
   "outputs": [],
   "source": [
    "df['Age'] = df['Age'].fillna(\"Unknown\")"
   ]
  },
  {
   "cell_type": "code",
   "execution_count": 11,
   "id": "2a94587f-24e3-4d1c-a622-5da817dddb8e",
   "metadata": {},
   "outputs": [],
   "source": [
    "df['Embarked'] = df['Embarked'].fillna(df['Embarked'].mode()[0])\n"
   ]
  },
  {
   "cell_type": "code",
   "execution_count": 13,
   "id": "2f40b35c-1d87-47c5-9513-22e0f7d8c3d8",
   "metadata": {},
   "outputs": [
    {
     "data": {
      "image/png": "[encoded data removed]",
      "text/plain": [
       "<Figure size 600x400 with 1 Axes>"
      ]
     },
     "metadata": {},
     "output_type": "display_data"
    }
   ],
   "source": [
    "plt.figure(figsize=(6,4))\n",
    "sns.countplot(x='Pclass', data=df)\n",
    "plt.title('Passenger Count by Class')\n",
    "plt.show()"
   ]
  },
  {
   "cell_type": "code",
   "execution_count": 17,
   "id": "ff447a03-f2c1-4fea-83ae-b3c8e89362ca",
   "metadata": {},
   "outputs": [
    {
     "name": "stdout",
     "output_type": "stream",
     "text": [
      "\n",
      "Female passengers who survived (PassengerId):\n",
      "     PassengerId     Sex  Survived\n",
      "1              2  female         1\n",
      "2              3  female         1\n",
      "3              4  female         1\n",
      "8              9  female         1\n",
      "9             10  female         1\n",
      "..           ...     ...       ...\n",
      "872          875  female         1\n",
      "873          876  female         1\n",
      "877          880  female         1\n",
      "878          881  female         1\n",
      "885          888  female         1\n",
      "\n",
      "[231 rows x 3 columns]\n"
     ]
    }
   ],
   "source": [
    "female_survived = df[(df['Sex']=='female') & (df['Survived']==1)]\n",
    "print(\"\\nFemale passengers who survived (PassengerId):\")\n",
    "print(female_survived[['PassengerId','Sex','Survived']])\n"
   ]
  },
  {
   "cell_type": "code",
   "execution_count": 19,
   "id": "c3b81b4a-606f-4f51-a422-eaf24ec24087",
   "metadata": {},
   "outputs": [
    {
     "name": "stdout",
     "output_type": "stream",
     "text": [
      "\n",
      "Passengers in 3rd class under age 18:\n",
      "     PassengerId  Pclass   Age\n",
      "7              8       3   2.0\n",
      "10            11       3   4.0\n",
      "14            15       3  14.0\n",
      "16            17       3   2.0\n",
      "22            23       3  15.0\n",
      "..           ...     ...   ...\n",
      "842          845       3  17.0\n",
      "848          851       3   4.0\n",
      "850          853       3   9.0\n",
      "867          870       3   4.0\n",
      "873          876       3  15.0\n",
      "\n",
      "[78 rows x 3 columns]\n"
     ]
    }
   ],
   "source": [
    "third_class_under18 = df[(df['Pclass']==3) & (df['Age']<18)]\n",
    "print(\"\\nPassengers in 3rd class under age 18:\")\n",
    "print(third_class_under18[['PassengerId','Pclass','Age']])"
   ]
  },
  {
   "cell_type": "code",
   "execution_count": 21,
   "id": "afa5ebc2-2a45-4a0f-ace3-1ecddbb24f71",
   "metadata": {},
   "outputs": [
    {
     "name": "stdout",
     "output_type": "stream",
     "text": [
      "\n",
      "Passengers in class 1 and older than 40:\n",
      "     PassengerId  Pclass   Age\n",
      "6              7       1  54.0\n",
      "11            12       1  58.0\n",
      "31            32       1  60.0\n",
      "35            36       1  42.0\n",
      "52            53       1  49.0\n",
      "..           ...     ...   ...\n",
      "854          857       1  45.0\n",
      "855          858       1  51.0\n",
      "860          863       1  48.0\n",
      "869          872       1  47.0\n",
      "877          880       1  56.0\n",
      "\n",
      "[105 rows x 3 columns]\n"
     ]
    }
   ],
   "source": [
    "class1_over40 = df[(df['Pclass']==1) & (df['Age']>40)]\n",
    "print(\"\\nPassengers in class 1 and older than 40:\")\n",
    "print(class1_over40[['PassengerId','Pclass','Age']])"
   ]
  },
  {
   "cell_type": "code",
   "execution_count": null,
   "id": "082ff9d0-250c-4ad5-bb48-fae10a4fcc37",
   "metadata": {},
   "outputs": [],
   "source": []
  }
 ],
 "metadata": {
  "kernelspec": {
   "display_name": "Python 3 (ipykernel)",
   "language": "python",
   "name": "python3"
  },
  "language_info": {
   "codemirror_mode": {
    "name": "ipython",
    "version": 3
   },
   "file_extension": ".py",
   "mimetype": "text/x-python",
   "name": "python",
   "nbconvert_exporter": "python",
   "pygments_lexer": "ipython3",
   "version": "3.12.7"
  }
 },
 "nbformat": 4,
 "nbformat_minor": 5
}
